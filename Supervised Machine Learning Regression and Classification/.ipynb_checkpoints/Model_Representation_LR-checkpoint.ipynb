{
 "cells": [
  {
   "cell_type": "markdown",
   "id": "4930de51-7264-404b-8331-5930adf4895d",
   "metadata": {},
   "source": [
    "# Optional Lab: Model Representation\n",
    "\n",
    "<img align=\"left\" src=\".resources/images/C1_W1_L3_S1_Lecture_b.png\"     style=\" width:380px; padding: 10px; \" >"
   ]
  },
  {
   "cell_type": "code",
   "execution_count": null,
   "id": "9d69e28a-f6b4-476f-9537-24ffa611e7ce",
   "metadata": {},
   "outputs": [],
   "source": []
  }
 ],
 "metadata": {
  "kernelspec": {
   "display_name": "Python 3 (ipykernel)",
   "language": "python",
   "name": "python3"
  },
  "language_info": {
   "codemirror_mode": {
    "name": "ipython",
    "version": 3
   },
   "file_extension": ".py",
   "mimetype": "text/x-python",
   "name": "python",
   "nbconvert_exporter": "python",
   "pygments_lexer": "ipython3",
   "version": "3.12.7"
  }
 },
 "nbformat": 4,
 "nbformat_minor": 5
}
